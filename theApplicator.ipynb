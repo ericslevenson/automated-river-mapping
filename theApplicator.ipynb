# Load models
SedIdentifier = tf.keras.models.load_model('/content/drive/MyDrive/kerasmodel/rn50model4.h5')
SediFilter = tf.keras.models.load_model('/content/drive/MyDrive/kerasmodel/sedifilter.h5')
SediPredictor50 = tf.keras.models.load_model('/content/drive/MyDrive/kerasmodel/sedimentpredictor2.h5')
SediPredictor84 = tf.keras.models.load_model('/content/drive/MyDrive/kerasmodel/sedimentpredictor84.h5')
SediPredictor16 = tf.keras.models.load_model('/content/drive/MyDrive/kerasmodel/sedimentpredictor16.h5')

# Global Variables
patchDimensions = 256

# This is my working version
# Takes a Rasterio dataset and splits it into squares of dimensions squareDim * squareDim
def splitImageIntoCells(img, squareDim):
    numberOfCellsWide = img.shape[1] // squareDim
    numberOfCellsHigh = img.shape[0] // squareDim
    x, y = 0, 0
    count = 0
    labellist = []
    troidlist = []
    xlist = []
    ylist = []
    sedIdentifylist = []
    sedFilterlist = [] # Append 'None' for non sediment patches
    P50list = [] # Append 'None' for filtered patches 
    P16list = []
    P84list = []
    for hc in range(numberOfCellsHigh):
        y = hc * squareDim
        for wc in range(numberOfCellsWide):
            x = wc * squareDim
            geom = getTileGeom(img.transform, x, y, squareDim)
            getCellFromGeom(img, geom, count, squareDim, labellist, troidlist, sedIdentifylist, sedFilterlist, P16list, P50list, P84list, xlist, ylist)
            count = count + 1
    resultdict = {'Labels': labellist, 'Centroid':troidlist, 'X':xlist, 'Y':ylist, 'Primary':sedIdentifylist, 'Secondary':sedFilterlist, 'P16':P16list, 'P50':P50list, 'P84':P84list}
    result = pd.DataFrame(resultdict)
    return result

def getTileGeom(transform, x, y, squareDim):
    # TODO: Calculate centroid
    corner1 = (x, y) * transform
    corner2 = (x + squareDim, y + squareDim) * transform
    return geometry.box(corner1[0], corner1[1],
                        corner2[0], corner2[1])
    
def getCellFromGeom(img, geom, count, squareDim, labellist, troidlist, sedIdentifylist, sedFilterlist, P16list, P50list, P84list, xlist, ylist):
    crop, cropTransform = mask(img, [geom], crop=True)
    if detectData(crop, squareDim) == False:
      return
    else:
      labellist.append(count) # give everything a unique label
      centroid = getCentroid(geom)
      troidlist.append(centroid) # append centroid to list
      x = getX(centroid)
      xlist.append(x)
      y = getY(centroid)
      ylist.append(y)
      crop2 = reshapeArray(crop)
      primary = sedIdentify(crop2)
      sedIdentifylist.append(primary)
      if primary == 1:s
        sedFilterlist.append(None)
        P16list.append(None)
        P50list.append(None)
        P84list.append(None)
      else:
        filtered = sedFilter(crop2)
        sedFilterlist.append(filtered)
        if filtered == 1:
          P16list.append(None)
          P50list.append(None)
          P84list.append(None)
        else:
          P16 = D16Predict(crop2)
          P16list.append(P16)
          P50 = D50Predict(crop2)
          P50list.append(P50)
          P84 = D84Predict(crop2)
          P84list.append(P84)

def getCentroid(geombox):
  centroid = geombox.centroid
  return centroid

def detectData(tile, squareDim)->bool:
  """This function detects whether a tile contains data, and returns True if
  at least half of the tile contains data"""
  datacells = len(ma.masked_equal(tile, 0).compressed())
  if datacells < squareDim*squareDim*3:
    return False
  else:
    return True

def reshapeArray(crop):
  '''reshapes rasterio array for tensorflow compatibility'''
  crop = crop[0:3]
  crop = np.moveaxis(crop, 0, -1)
  crop = crop/255
  crop = np.expand_dims(crop, axis=0)
  if crop.shape == (1, 256, 256, 3):
    return crop
  else:
    crop = crop[:,0:256,0:256,:]
    return crop

def sedIdentify(crop):
  result = SedIdentifier.predict(crop)
  result = np.argmax(result)
  return result

def sedFilter(crop):
  result = SediFilter.predict(crop)
  result = np.argmax(result)
  return result

def D16Predict(crop):
  result = SediPredictor16.predict(crop)
  result2 = result[0][0]
  return result2

def D50Predict(crop):
  result = SediPredictor50.predict(crop)
  result2 = result[0][0]
  return result2

def D84Predict(crop):
  result = SediPredictor84.predict(crop)
  result2 = result[0][0]
  return result2

def getX(centroid):
  string = str(centroid)
  x = float(string.split(' ')[1].split('(')[1])
  return x

def getY(centroid):
  string = str(centroid)
  y = float(string.split(' ')[2].split(')')[0])
  return y
